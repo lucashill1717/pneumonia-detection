{
 "cells": [
  {
   "cell_type": "markdown",
   "metadata": {},
   "source": [
    "# Pneumonia Detection Using Keras\n",
    "This project aimed to create a three-way multiclassification model using a Convolutional Neural Network made with Google'stheneumonia. The purpose of this project is to create a quick and simplified way for anyone to classify pneumonia in children, possibly saving lives due to an early warning about the terrible disease.\n",
    "\n",
    "### Trainer Specs\n",
    "- Hardware\n",
    "    - Intel i5-12600K\n",
    "    - NVIDIA Geforce RTX 3060 Ti\n",
    "        - Driver Version 552.22\n",
    "        - CUDA Version 12.4\n",
    "    - 32 GB Memory\n",
    "- Software\n",
    "    - Python 3.10.12\n",
    "    - Tensorflow 2.16.1\n",
    "    - Keras 3.1.1\n",
    "\n",
    "### Background Information\n",
    "This model is trained on [this dataset from Kaggle][kaggle_link]. However, Kaggle groups the bacterial and viral pneumonia together, creating a binary image classification problem. I wanted to take it a step further, separating the types of pneumonia out for further classification. To accomplish this, I renamed the `PNEUMONIA` directories to `BACTERIA` and moved all the viral pneumonia X-Rays into new `VIRUS` directories, to allow for easier data retrieval and labeling. To run locally, ensure to follow the same steps.\n",
    "\n",
    "[kaggle_link]: https://www.kaggle.com/datasets/paultimothymooney/chest-xray-pneumonia \"Chest X-Ray Images (Pneumonia)\""
   ]
  }
 ],
 "metadata": {
  "kernelspec": {
   "display_name": "env",
   "language": "python",
   "name": "python3"
  },
  "language_info": {
   "name": "python",
   "version": "3.10.12"
  }
 },
 "nbformat": 4,
 "nbformat_minor": 2
}
