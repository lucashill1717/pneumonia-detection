{
 "cells": [
  {
   "cell_type": "markdown",
   "metadata": {},
   "source": [
    "# Pneumonia Detection Using Keras\n",
    "This project aimed to create a three-way multiclassification model to identify pneumonia from X-Ray image of children. The possible classifications are normal, bacterial pneumonia, and viral pneumonia. The purpose of this project is to create a quick and simplified way for anyone to classify pneumonia in children, possibly saving lives due to an early warning about the terrible disease. \n",
    "\n",
    "### Trainer Specs\n",
    "- Hardware\n",
    "    - Intel i5-12600K\n",
    "    - NVIDIA Geforce RTX 3060 Ti\n",
    "        - Driver Version 552.22\n",
    "        - CUDA Version 12.4\n",
    "    - 32 GB Memory\n",
    "- Software\n",
    "    - Python 3.10.12\n",
    "    - Tensorflow 2.16.1\n",
    "    - Keras 3.1.1"
   ]
  }
 ],
 "metadata": {
  "kernelspec": {
   "display_name": "env",
   "language": "python",
   "name": "python3"
  },
  "language_info": {
   "name": "python",
   "version": "3.10.12"
  }
 },
 "nbformat": 4,
 "nbformat_minor": 2
}
