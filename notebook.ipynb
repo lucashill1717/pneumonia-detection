{
 "cells": [
  {
   "cell_type": "markdown",
   "metadata": {},
   "source": [
    "# Pneumonia Detection Using Keras\n",
    "This project aimed to create a three-way multi-classification model using a Convolutional Neural Network made with Keras to classify pneumonia from X-Rays. The purpose of this project is to create a quick and simplified way for anyone to classify pneumonia in children, possibly saving lives due to an early warning about the terrible disease.\n",
    "\n",
    "### Trainer Specs\n",
    "- Hardware\n",
    "    - Intel i5-12600K\n",
    "    - NVIDIA Geforce RTX 3060 Ti\n",
    "        - Driver Version 552.22\n",
    "        - CUDA Version 12.4\n",
    "    - 32 GB Memory\n",
    "- Software\n",
    "    - Python 3.10.12\n",
    "    - Tensorflow 2.16.1\n",
    "    - Keras 3.1.1\n",
    "\n",
    "### Background Information\n",
    "This model is trained on [this dataset from Kaggle][kaggle_link]. However, Kaggle groups the bacterial and viral pneumonia together, creating a binary image classification problem. I wanted to take it a step further, separating the types of pneumonia out for further classification. To accomplish this, I renamed the `PNEUMONIA` directories to `BACTERIA` and moved all the viral pneumonia X-Rays into new `VIRUS` directories, to allow for easier data retrieval and labeling. To run locally, make sure to follow the same steps.\n",
    "\n",
    "[kaggle_link]: https://www.kaggle.com/datasets/paultimothymooney/chest-xray-pneumonia \"Chest X-Ray Images (Pneumonia)\""
   ]
  },
  {
   "cell_type": "markdown",
   "metadata": {},
   "source": [
    "#### Setting up"
   ]
  },
  {
   "cell_type": "code",
   "execution_count": 1,
   "metadata": {},
   "outputs": [],
   "source": [
    "from typing import Any\n",
    "from keras.utils import PyDataset\n",
    "from keras.models import Sequential\n",
    "from keras.layers import (\n",
    "    Input,\n",
    "    Conv2D,\n",
    "    MaxPooling2D,\n",
    "    Flatten,\n",
    "    Dense,\n",
    "    Dropout,\n",
    "    BatchNormalization,\n",
    ")\n",
    "from math import ceil\n",
    "from skimage.io import imread\n",
    "from skimage.transform import resize\n",
    "from numpy import array, ndarray, eye\n",
    "from os import listdir\n",
    "from random import shuffle\n",
    "\n",
    "HEIGHT = 512\n",
    "WIDTH = 512"
   ]
  },
  {
   "cell_type": "markdown",
   "metadata": {},
   "source": [
    "#### Custom Dataset Class\n",
    "This custom class implements a Keras PyDataset, allowing for the model to read the data using a Python generator. This prevents massive memory usage and allows for higher definition images to be used. To represent the classes, I opted for one-hot encoding, meaning each image has an array attached to it representing the class, such as [1, 0, 0]."
   ]
  },
  {
   "cell_type": "code",
   "execution_count": 2,
   "metadata": {},
   "outputs": [],
   "source": [
    "class PneumoniaDataset(PyDataset):\n",
    "    def __init__(\n",
    "        self: \"PneumoniaDataset\", dir: str, batch_size: int, **kwargs: Any\n",
    "    ) -> None:\n",
    "        super().__init__(**kwargs)\n",
    "        self.x, self.y = self.get_image_paths(dir)\n",
    "        self.batch_size = batch_size\n",
    "\n",
    "    def __len__(self: \"PneumoniaDataset\") -> int:\n",
    "        return ceil(len(self.x) / self.batch_size)\n",
    "\n",
    "    def __getitem__(self: \"PneumoniaDataset\", idx: int) -> tuple[ndarray, ndarray]:\n",
    "        low = idx * self.batch_size\n",
    "        high = min(low + self.batch_size, len(self.x))\n",
    "        batch_x = self.x[low:high]\n",
    "        batch_y = self.y[low:high]\n",
    "        bad_output = [\n",
    "            resize(imread(file_name), (HEIGHT, WIDTH)) for file_name in batch_x\n",
    "        ]\n",
    "        good_output = []\n",
    "        for output in bad_output:\n",
    "            new_output = (\n",
    "                output.mean(axis=2) if output.shape == (HEIGHT, WIDTH, 3) else output\n",
    "            )\n",
    "            good_output.append(new_output)\n",
    "        return array(good_output), batch_y\n",
    "\n",
    "    def on_epoch_end(self: \"PneumoniaDataset\") -> None:\n",
    "        indices = list(range(len(self.x)))\n",
    "        shuffle(indices)\n",
    "        self.x = [self.x[i] for i in indices]\n",
    "        self.y = self.y[indices]\n",
    "\n",
    "    def get_image_paths(self, dir: str) -> tuple[list[str], ndarray]:\n",
    "        paths, classes = [], []\n",
    "        class_labels = {\"NORMAL\": 0, \"BACTERIA\": 1, \"VIRUS\": 2}\n",
    "        num_classes = len(class_labels)\n",
    "\n",
    "        for label, class_idx in class_labels.items():\n",
    "            label_paths = [\n",
    "                f\"{dir}/{label}/{file}\" for file in listdir(f\"{dir}/{label}\")\n",
    "            ]\n",
    "            paths.extend(label_paths)\n",
    "            classes.extend([class_idx] * len(label_paths))\n",
    "\n",
    "        one_hot_labels = eye(num_classes)[classes]\n",
    "        return paths, one_hot_labels"
   ]
  },
  {
   "cell_type": "markdown",
   "metadata": {},
   "source": [
    "#### The Model\n",
    "The model is a deep neural network using numerous convolution and pooling layers to extract information from each image. After each convolution layer, the outputs are normalized and regularized to prevent overfitting. Every convolution layer uses the ReLU activation, setting all negative values to 0, allowing for learning to be possible. As the problem for the model is image multi-classification, a softmax activation for the output and categorical crossentropy for the loss function are used."
   ]
  },
  {
   "cell_type": "code",
   "execution_count": 3,
   "metadata": {},
   "outputs": [
    {
     "data": {
      "text/html": [
       "<pre style=\"white-space:pre;overflow-x:auto;line-height:normal;font-family:Menlo,'DejaVu Sans Mono',consolas,'Courier New',monospace\"><span style=\"font-weight: bold\">Model: \"sequential\"</span>\n",
       "</pre>\n"
      ],
      "text/plain": [
       "\u001b[1mModel: \"sequential\"\u001b[0m\n"
      ]
     },
     "metadata": {},
     "output_type": "display_data"
    },
    {
     "data": {
      "text/html": [
       "<pre style=\"white-space:pre;overflow-x:auto;line-height:normal;font-family:Menlo,'DejaVu Sans Mono',consolas,'Courier New',monospace\">┏━━━━━━━━━━━━━━━━━━━━━━━━━━━━━━━━━┳━━━━━━━━━━━━━━━━━━━━━━━━┳━━━━━━━━━━━━━━━┓\n",
       "┃<span style=\"font-weight: bold\"> Layer (type)                    </span>┃<span style=\"font-weight: bold\"> Output Shape           </span>┃<span style=\"font-weight: bold\">       Param # </span>┃\n",
       "┡━━━━━━━━━━━━━━━━━━━━━━━━━━━━━━━━━╇━━━━━━━━━━━━━━━━━━━━━━━━╇━━━━━━━━━━━━━━━┩\n",
       "│ conv2d (<span style=\"color: #0087ff; text-decoration-color: #0087ff\">Conv2D</span>)                 │ (<span style=\"color: #00d7ff; text-decoration-color: #00d7ff\">None</span>, <span style=\"color: #00af00; text-decoration-color: #00af00\">512</span>, <span style=\"color: #00af00; text-decoration-color: #00af00\">512</span>, <span style=\"color: #00af00; text-decoration-color: #00af00\">16</span>)   │           <span style=\"color: #00af00; text-decoration-color: #00af00\">160</span> │\n",
       "├─────────────────────────────────┼────────────────────────┼───────────────┤\n",
       "│ batch_normalization             │ (<span style=\"color: #00d7ff; text-decoration-color: #00d7ff\">None</span>, <span style=\"color: #00af00; text-decoration-color: #00af00\">512</span>, <span style=\"color: #00af00; text-decoration-color: #00af00\">512</span>, <span style=\"color: #00af00; text-decoration-color: #00af00\">16</span>)   │            <span style=\"color: #00af00; text-decoration-color: #00af00\">64</span> │\n",
       "│ (<span style=\"color: #0087ff; text-decoration-color: #0087ff\">BatchNormalization</span>)            │                        │               │\n",
       "├─────────────────────────────────┼────────────────────────┼───────────────┤\n",
       "│ conv2d_1 (<span style=\"color: #0087ff; text-decoration-color: #0087ff\">Conv2D</span>)               │ (<span style=\"color: #00d7ff; text-decoration-color: #00d7ff\">None</span>, <span style=\"color: #00af00; text-decoration-color: #00af00\">512</span>, <span style=\"color: #00af00; text-decoration-color: #00af00\">512</span>, <span style=\"color: #00af00; text-decoration-color: #00af00\">32</span>)   │         <span style=\"color: #00af00; text-decoration-color: #00af00\">4,640</span> │\n",
       "├─────────────────────────────────┼────────────────────────┼───────────────┤\n",
       "│ dropout (<span style=\"color: #0087ff; text-decoration-color: #0087ff\">Dropout</span>)               │ (<span style=\"color: #00d7ff; text-decoration-color: #00d7ff\">None</span>, <span style=\"color: #00af00; text-decoration-color: #00af00\">512</span>, <span style=\"color: #00af00; text-decoration-color: #00af00\">512</span>, <span style=\"color: #00af00; text-decoration-color: #00af00\">32</span>)   │             <span style=\"color: #00af00; text-decoration-color: #00af00\">0</span> │\n",
       "├─────────────────────────────────┼────────────────────────┼───────────────┤\n",
       "│ batch_normalization_1           │ (<span style=\"color: #00d7ff; text-decoration-color: #00d7ff\">None</span>, <span style=\"color: #00af00; text-decoration-color: #00af00\">512</span>, <span style=\"color: #00af00; text-decoration-color: #00af00\">512</span>, <span style=\"color: #00af00; text-decoration-color: #00af00\">32</span>)   │           <span style=\"color: #00af00; text-decoration-color: #00af00\">128</span> │\n",
       "│ (<span style=\"color: #0087ff; text-decoration-color: #0087ff\">BatchNormalization</span>)            │                        │               │\n",
       "├─────────────────────────────────┼────────────────────────┼───────────────┤\n",
       "│ max_pooling2d (<span style=\"color: #0087ff; text-decoration-color: #0087ff\">MaxPooling2D</span>)    │ (<span style=\"color: #00d7ff; text-decoration-color: #00d7ff\">None</span>, <span style=\"color: #00af00; text-decoration-color: #00af00\">256</span>, <span style=\"color: #00af00; text-decoration-color: #00af00\">256</span>, <span style=\"color: #00af00; text-decoration-color: #00af00\">32</span>)   │             <span style=\"color: #00af00; text-decoration-color: #00af00\">0</span> │\n",
       "├─────────────────────────────────┼────────────────────────┼───────────────┤\n",
       "│ conv2d_2 (<span style=\"color: #0087ff; text-decoration-color: #0087ff\">Conv2D</span>)               │ (<span style=\"color: #00d7ff; text-decoration-color: #00d7ff\">None</span>, <span style=\"color: #00af00; text-decoration-color: #00af00\">256</span>, <span style=\"color: #00af00; text-decoration-color: #00af00\">256</span>, <span style=\"color: #00af00; text-decoration-color: #00af00\">64</span>)   │        <span style=\"color: #00af00; text-decoration-color: #00af00\">18,496</span> │\n",
       "├─────────────────────────────────┼────────────────────────┼───────────────┤\n",
       "│ batch_normalization_2           │ (<span style=\"color: #00d7ff; text-decoration-color: #00d7ff\">None</span>, <span style=\"color: #00af00; text-decoration-color: #00af00\">256</span>, <span style=\"color: #00af00; text-decoration-color: #00af00\">256</span>, <span style=\"color: #00af00; text-decoration-color: #00af00\">64</span>)   │           <span style=\"color: #00af00; text-decoration-color: #00af00\">256</span> │\n",
       "│ (<span style=\"color: #0087ff; text-decoration-color: #0087ff\">BatchNormalization</span>)            │                        │               │\n",
       "├─────────────────────────────────┼────────────────────────┼───────────────┤\n",
       "│ conv2d_3 (<span style=\"color: #0087ff; text-decoration-color: #0087ff\">Conv2D</span>)               │ (<span style=\"color: #00d7ff; text-decoration-color: #00d7ff\">None</span>, <span style=\"color: #00af00; text-decoration-color: #00af00\">256</span>, <span style=\"color: #00af00; text-decoration-color: #00af00\">256</span>, <span style=\"color: #00af00; text-decoration-color: #00af00\">128</span>)  │        <span style=\"color: #00af00; text-decoration-color: #00af00\">73,856</span> │\n",
       "├─────────────────────────────────┼────────────────────────┼───────────────┤\n",
       "│ dropout_1 (<span style=\"color: #0087ff; text-decoration-color: #0087ff\">Dropout</span>)             │ (<span style=\"color: #00d7ff; text-decoration-color: #00d7ff\">None</span>, <span style=\"color: #00af00; text-decoration-color: #00af00\">256</span>, <span style=\"color: #00af00; text-decoration-color: #00af00\">256</span>, <span style=\"color: #00af00; text-decoration-color: #00af00\">128</span>)  │             <span style=\"color: #00af00; text-decoration-color: #00af00\">0</span> │\n",
       "├─────────────────────────────────┼────────────────────────┼───────────────┤\n",
       "│ batch_normalization_3           │ (<span style=\"color: #00d7ff; text-decoration-color: #00d7ff\">None</span>, <span style=\"color: #00af00; text-decoration-color: #00af00\">256</span>, <span style=\"color: #00af00; text-decoration-color: #00af00\">256</span>, <span style=\"color: #00af00; text-decoration-color: #00af00\">128</span>)  │           <span style=\"color: #00af00; text-decoration-color: #00af00\">512</span> │\n",
       "│ (<span style=\"color: #0087ff; text-decoration-color: #0087ff\">BatchNormalization</span>)            │                        │               │\n",
       "├─────────────────────────────────┼────────────────────────┼───────────────┤\n",
       "│ max_pooling2d_1 (<span style=\"color: #0087ff; text-decoration-color: #0087ff\">MaxPooling2D</span>)  │ (<span style=\"color: #00d7ff; text-decoration-color: #00d7ff\">None</span>, <span style=\"color: #00af00; text-decoration-color: #00af00\">128</span>, <span style=\"color: #00af00; text-decoration-color: #00af00\">128</span>, <span style=\"color: #00af00; text-decoration-color: #00af00\">128</span>)  │             <span style=\"color: #00af00; text-decoration-color: #00af00\">0</span> │\n",
       "├─────────────────────────────────┼────────────────────────┼───────────────┤\n",
       "│ conv2d_4 (<span style=\"color: #0087ff; text-decoration-color: #0087ff\">Conv2D</span>)               │ (<span style=\"color: #00d7ff; text-decoration-color: #00d7ff\">None</span>, <span style=\"color: #00af00; text-decoration-color: #00af00\">128</span>, <span style=\"color: #00af00; text-decoration-color: #00af00\">128</span>, <span style=\"color: #00af00; text-decoration-color: #00af00\">256</span>)  │       <span style=\"color: #00af00; text-decoration-color: #00af00\">295,168</span> │\n",
       "├─────────────────────────────────┼────────────────────────┼───────────────┤\n",
       "│ batch_normalization_4           │ (<span style=\"color: #00d7ff; text-decoration-color: #00d7ff\">None</span>, <span style=\"color: #00af00; text-decoration-color: #00af00\">128</span>, <span style=\"color: #00af00; text-decoration-color: #00af00\">128</span>, <span style=\"color: #00af00; text-decoration-color: #00af00\">256</span>)  │         <span style=\"color: #00af00; text-decoration-color: #00af00\">1,024</span> │\n",
       "│ (<span style=\"color: #0087ff; text-decoration-color: #0087ff\">BatchNormalization</span>)            │                        │               │\n",
       "├─────────────────────────────────┼────────────────────────┼───────────────┤\n",
       "│ max_pooling2d_2 (<span style=\"color: #0087ff; text-decoration-color: #0087ff\">MaxPooling2D</span>)  │ (<span style=\"color: #00d7ff; text-decoration-color: #00d7ff\">None</span>, <span style=\"color: #00af00; text-decoration-color: #00af00\">64</span>, <span style=\"color: #00af00; text-decoration-color: #00af00\">64</span>, <span style=\"color: #00af00; text-decoration-color: #00af00\">256</span>)    │             <span style=\"color: #00af00; text-decoration-color: #00af00\">0</span> │\n",
       "├─────────────────────────────────┼────────────────────────┼───────────────┤\n",
       "│ conv2d_5 (<span style=\"color: #0087ff; text-decoration-color: #0087ff\">Conv2D</span>)               │ (<span style=\"color: #00d7ff; text-decoration-color: #00d7ff\">None</span>, <span style=\"color: #00af00; text-decoration-color: #00af00\">64</span>, <span style=\"color: #00af00; text-decoration-color: #00af00\">64</span>, <span style=\"color: #00af00; text-decoration-color: #00af00\">512</span>)    │     <span style=\"color: #00af00; text-decoration-color: #00af00\">1,180,160</span> │\n",
       "├─────────────────────────────────┼────────────────────────┼───────────────┤\n",
       "│ dropout_2 (<span style=\"color: #0087ff; text-decoration-color: #0087ff\">Dropout</span>)             │ (<span style=\"color: #00d7ff; text-decoration-color: #00d7ff\">None</span>, <span style=\"color: #00af00; text-decoration-color: #00af00\">64</span>, <span style=\"color: #00af00; text-decoration-color: #00af00\">64</span>, <span style=\"color: #00af00; text-decoration-color: #00af00\">512</span>)    │             <span style=\"color: #00af00; text-decoration-color: #00af00\">0</span> │\n",
       "├─────────────────────────────────┼────────────────────────┼───────────────┤\n",
       "│ batch_normalization_5           │ (<span style=\"color: #00d7ff; text-decoration-color: #00d7ff\">None</span>, <span style=\"color: #00af00; text-decoration-color: #00af00\">64</span>, <span style=\"color: #00af00; text-decoration-color: #00af00\">64</span>, <span style=\"color: #00af00; text-decoration-color: #00af00\">512</span>)    │         <span style=\"color: #00af00; text-decoration-color: #00af00\">2,048</span> │\n",
       "│ (<span style=\"color: #0087ff; text-decoration-color: #0087ff\">BatchNormalization</span>)            │                        │               │\n",
       "├─────────────────────────────────┼────────────────────────┼───────────────┤\n",
       "│ max_pooling2d_3 (<span style=\"color: #0087ff; text-decoration-color: #0087ff\">MaxPooling2D</span>)  │ (<span style=\"color: #00d7ff; text-decoration-color: #00d7ff\">None</span>, <span style=\"color: #00af00; text-decoration-color: #00af00\">32</span>, <span style=\"color: #00af00; text-decoration-color: #00af00\">32</span>, <span style=\"color: #00af00; text-decoration-color: #00af00\">512</span>)    │             <span style=\"color: #00af00; text-decoration-color: #00af00\">0</span> │\n",
       "├─────────────────────────────────┼────────────────────────┼───────────────┤\n",
       "│ flatten (<span style=\"color: #0087ff; text-decoration-color: #0087ff\">Flatten</span>)               │ (<span style=\"color: #00d7ff; text-decoration-color: #00d7ff\">None</span>, <span style=\"color: #00af00; text-decoration-color: #00af00\">524288</span>)         │             <span style=\"color: #00af00; text-decoration-color: #00af00\">0</span> │\n",
       "├─────────────────────────────────┼────────────────────────┼───────────────┤\n",
       "│ dense (<span style=\"color: #0087ff; text-decoration-color: #0087ff\">Dense</span>)                   │ (<span style=\"color: #00d7ff; text-decoration-color: #00d7ff\">None</span>, <span style=\"color: #00af00; text-decoration-color: #00af00\">3</span>)              │     <span style=\"color: #00af00; text-decoration-color: #00af00\">1,572,867</span> │\n",
       "└─────────────────────────────────┴────────────────────────┴───────────────┘\n",
       "</pre>\n"
      ],
      "text/plain": [
       "┏━━━━━━━━━━━━━━━━━━━━━━━━━━━━━━━━━┳━━━━━━━━━━━━━━━━━━━━━━━━┳━━━━━━━━━━━━━━━┓\n",
       "┃\u001b[1m \u001b[0m\u001b[1mLayer (type)                   \u001b[0m\u001b[1m \u001b[0m┃\u001b[1m \u001b[0m\u001b[1mOutput Shape          \u001b[0m\u001b[1m \u001b[0m┃\u001b[1m \u001b[0m\u001b[1m      Param #\u001b[0m\u001b[1m \u001b[0m┃\n",
       "┡━━━━━━━━━━━━━━━━━━━━━━━━━━━━━━━━━╇━━━━━━━━━━━━━━━━━━━━━━━━╇━━━━━━━━━━━━━━━┩\n",
       "│ conv2d (\u001b[38;5;33mConv2D\u001b[0m)                 │ (\u001b[38;5;45mNone\u001b[0m, \u001b[38;5;34m512\u001b[0m, \u001b[38;5;34m512\u001b[0m, \u001b[38;5;34m16\u001b[0m)   │           \u001b[38;5;34m160\u001b[0m │\n",
       "├─────────────────────────────────┼────────────────────────┼───────────────┤\n",
       "│ batch_normalization             │ (\u001b[38;5;45mNone\u001b[0m, \u001b[38;5;34m512\u001b[0m, \u001b[38;5;34m512\u001b[0m, \u001b[38;5;34m16\u001b[0m)   │            \u001b[38;5;34m64\u001b[0m │\n",
       "│ (\u001b[38;5;33mBatchNormalization\u001b[0m)            │                        │               │\n",
       "├─────────────────────────────────┼────────────────────────┼───────────────┤\n",
       "│ conv2d_1 (\u001b[38;5;33mConv2D\u001b[0m)               │ (\u001b[38;5;45mNone\u001b[0m, \u001b[38;5;34m512\u001b[0m, \u001b[38;5;34m512\u001b[0m, \u001b[38;5;34m32\u001b[0m)   │         \u001b[38;5;34m4,640\u001b[0m │\n",
       "├─────────────────────────────────┼────────────────────────┼───────────────┤\n",
       "│ dropout (\u001b[38;5;33mDropout\u001b[0m)               │ (\u001b[38;5;45mNone\u001b[0m, \u001b[38;5;34m512\u001b[0m, \u001b[38;5;34m512\u001b[0m, \u001b[38;5;34m32\u001b[0m)   │             \u001b[38;5;34m0\u001b[0m │\n",
       "├─────────────────────────────────┼────────────────────────┼───────────────┤\n",
       "│ batch_normalization_1           │ (\u001b[38;5;45mNone\u001b[0m, \u001b[38;5;34m512\u001b[0m, \u001b[38;5;34m512\u001b[0m, \u001b[38;5;34m32\u001b[0m)   │           \u001b[38;5;34m128\u001b[0m │\n",
       "│ (\u001b[38;5;33mBatchNormalization\u001b[0m)            │                        │               │\n",
       "├─────────────────────────────────┼────────────────────────┼───────────────┤\n",
       "│ max_pooling2d (\u001b[38;5;33mMaxPooling2D\u001b[0m)    │ (\u001b[38;5;45mNone\u001b[0m, \u001b[38;5;34m256\u001b[0m, \u001b[38;5;34m256\u001b[0m, \u001b[38;5;34m32\u001b[0m)   │             \u001b[38;5;34m0\u001b[0m │\n",
       "├─────────────────────────────────┼────────────────────────┼───────────────┤\n",
       "│ conv2d_2 (\u001b[38;5;33mConv2D\u001b[0m)               │ (\u001b[38;5;45mNone\u001b[0m, \u001b[38;5;34m256\u001b[0m, \u001b[38;5;34m256\u001b[0m, \u001b[38;5;34m64\u001b[0m)   │        \u001b[38;5;34m18,496\u001b[0m │\n",
       "├─────────────────────────────────┼────────────────────────┼───────────────┤\n",
       "│ batch_normalization_2           │ (\u001b[38;5;45mNone\u001b[0m, \u001b[38;5;34m256\u001b[0m, \u001b[38;5;34m256\u001b[0m, \u001b[38;5;34m64\u001b[0m)   │           \u001b[38;5;34m256\u001b[0m │\n",
       "│ (\u001b[38;5;33mBatchNormalization\u001b[0m)            │                        │               │\n",
       "├─────────────────────────────────┼────────────────────────┼───────────────┤\n",
       "│ conv2d_3 (\u001b[38;5;33mConv2D\u001b[0m)               │ (\u001b[38;5;45mNone\u001b[0m, \u001b[38;5;34m256\u001b[0m, \u001b[38;5;34m256\u001b[0m, \u001b[38;5;34m128\u001b[0m)  │        \u001b[38;5;34m73,856\u001b[0m │\n",
       "├─────────────────────────────────┼────────────────────────┼───────────────┤\n",
       "│ dropout_1 (\u001b[38;5;33mDropout\u001b[0m)             │ (\u001b[38;5;45mNone\u001b[0m, \u001b[38;5;34m256\u001b[0m, \u001b[38;5;34m256\u001b[0m, \u001b[38;5;34m128\u001b[0m)  │             \u001b[38;5;34m0\u001b[0m │\n",
       "├─────────────────────────────────┼────────────────────────┼───────────────┤\n",
       "│ batch_normalization_3           │ (\u001b[38;5;45mNone\u001b[0m, \u001b[38;5;34m256\u001b[0m, \u001b[38;5;34m256\u001b[0m, \u001b[38;5;34m128\u001b[0m)  │           \u001b[38;5;34m512\u001b[0m │\n",
       "│ (\u001b[38;5;33mBatchNormalization\u001b[0m)            │                        │               │\n",
       "├─────────────────────────────────┼────────────────────────┼───────────────┤\n",
       "│ max_pooling2d_1 (\u001b[38;5;33mMaxPooling2D\u001b[0m)  │ (\u001b[38;5;45mNone\u001b[0m, \u001b[38;5;34m128\u001b[0m, \u001b[38;5;34m128\u001b[0m, \u001b[38;5;34m128\u001b[0m)  │             \u001b[38;5;34m0\u001b[0m │\n",
       "├─────────────────────────────────┼────────────────────────┼───────────────┤\n",
       "│ conv2d_4 (\u001b[38;5;33mConv2D\u001b[0m)               │ (\u001b[38;5;45mNone\u001b[0m, \u001b[38;5;34m128\u001b[0m, \u001b[38;5;34m128\u001b[0m, \u001b[38;5;34m256\u001b[0m)  │       \u001b[38;5;34m295,168\u001b[0m │\n",
       "├─────────────────────────────────┼────────────────────────┼───────────────┤\n",
       "│ batch_normalization_4           │ (\u001b[38;5;45mNone\u001b[0m, \u001b[38;5;34m128\u001b[0m, \u001b[38;5;34m128\u001b[0m, \u001b[38;5;34m256\u001b[0m)  │         \u001b[38;5;34m1,024\u001b[0m │\n",
       "│ (\u001b[38;5;33mBatchNormalization\u001b[0m)            │                        │               │\n",
       "├─────────────────────────────────┼────────────────────────┼───────────────┤\n",
       "│ max_pooling2d_2 (\u001b[38;5;33mMaxPooling2D\u001b[0m)  │ (\u001b[38;5;45mNone\u001b[0m, \u001b[38;5;34m64\u001b[0m, \u001b[38;5;34m64\u001b[0m, \u001b[38;5;34m256\u001b[0m)    │             \u001b[38;5;34m0\u001b[0m │\n",
       "├─────────────────────────────────┼────────────────────────┼───────────────┤\n",
       "│ conv2d_5 (\u001b[38;5;33mConv2D\u001b[0m)               │ (\u001b[38;5;45mNone\u001b[0m, \u001b[38;5;34m64\u001b[0m, \u001b[38;5;34m64\u001b[0m, \u001b[38;5;34m512\u001b[0m)    │     \u001b[38;5;34m1,180,160\u001b[0m │\n",
       "├─────────────────────────────────┼────────────────────────┼───────────────┤\n",
       "│ dropout_2 (\u001b[38;5;33mDropout\u001b[0m)             │ (\u001b[38;5;45mNone\u001b[0m, \u001b[38;5;34m64\u001b[0m, \u001b[38;5;34m64\u001b[0m, \u001b[38;5;34m512\u001b[0m)    │             \u001b[38;5;34m0\u001b[0m │\n",
       "├─────────────────────────────────┼────────────────────────┼───────────────┤\n",
       "│ batch_normalization_5           │ (\u001b[38;5;45mNone\u001b[0m, \u001b[38;5;34m64\u001b[0m, \u001b[38;5;34m64\u001b[0m, \u001b[38;5;34m512\u001b[0m)    │         \u001b[38;5;34m2,048\u001b[0m │\n",
       "│ (\u001b[38;5;33mBatchNormalization\u001b[0m)            │                        │               │\n",
       "├─────────────────────────────────┼────────────────────────┼───────────────┤\n",
       "│ max_pooling2d_3 (\u001b[38;5;33mMaxPooling2D\u001b[0m)  │ (\u001b[38;5;45mNone\u001b[0m, \u001b[38;5;34m32\u001b[0m, \u001b[38;5;34m32\u001b[0m, \u001b[38;5;34m512\u001b[0m)    │             \u001b[38;5;34m0\u001b[0m │\n",
       "├─────────────────────────────────┼────────────────────────┼───────────────┤\n",
       "│ flatten (\u001b[38;5;33mFlatten\u001b[0m)               │ (\u001b[38;5;45mNone\u001b[0m, \u001b[38;5;34m524288\u001b[0m)         │             \u001b[38;5;34m0\u001b[0m │\n",
       "├─────────────────────────────────┼────────────────────────┼───────────────┤\n",
       "│ dense (\u001b[38;5;33mDense\u001b[0m)                   │ (\u001b[38;5;45mNone\u001b[0m, \u001b[38;5;34m3\u001b[0m)              │     \u001b[38;5;34m1,572,867\u001b[0m │\n",
       "└─────────────────────────────────┴────────────────────────┴───────────────┘\n"
      ]
     },
     "metadata": {},
     "output_type": "display_data"
    },
    {
     "data": {
      "text/html": [
       "<pre style=\"white-space:pre;overflow-x:auto;line-height:normal;font-family:Menlo,'DejaVu Sans Mono',consolas,'Courier New',monospace\"><span style=\"font-weight: bold\"> Total params: </span><span style=\"color: #00af00; text-decoration-color: #00af00\">3,149,379</span> (12.01 MB)\n",
       "</pre>\n"
      ],
      "text/plain": [
       "\u001b[1m Total params: \u001b[0m\u001b[38;5;34m3,149,379\u001b[0m (12.01 MB)\n"
      ]
     },
     "metadata": {},
     "output_type": "display_data"
    },
    {
     "data": {
      "text/html": [
       "<pre style=\"white-space:pre;overflow-x:auto;line-height:normal;font-family:Menlo,'DejaVu Sans Mono',consolas,'Courier New',monospace\"><span style=\"font-weight: bold\"> Trainable params: </span><span style=\"color: #00af00; text-decoration-color: #00af00\">3,147,363</span> (12.01 MB)\n",
       "</pre>\n"
      ],
      "text/plain": [
       "\u001b[1m Trainable params: \u001b[0m\u001b[38;5;34m3,147,363\u001b[0m (12.01 MB)\n"
      ]
     },
     "metadata": {},
     "output_type": "display_data"
    },
    {
     "data": {
      "text/html": [
       "<pre style=\"white-space:pre;overflow-x:auto;line-height:normal;font-family:Menlo,'DejaVu Sans Mono',consolas,'Courier New',monospace\"><span style=\"font-weight: bold\"> Non-trainable params: </span><span style=\"color: #00af00; text-decoration-color: #00af00\">2,016</span> (7.88 KB)\n",
       "</pre>\n"
      ],
      "text/plain": [
       "\u001b[1m Non-trainable params: \u001b[0m\u001b[38;5;34m2,016\u001b[0m (7.88 KB)\n"
      ]
     },
     "metadata": {},
     "output_type": "display_data"
    }
   ],
   "source": [
    "model = Sequential(\n",
    "    layers=[\n",
    "        Input(shape=(HEIGHT, WIDTH, 1)),\n",
    "        Conv2D(16, 3, padding=\"same\", activation=\"relu\"),\n",
    "        BatchNormalization(),\n",
    "        Conv2D(32, 3, padding=\"same\", activation=\"relu\"),\n",
    "        Dropout(0.1),\n",
    "        BatchNormalization(),\n",
    "        MaxPooling2D(2),\n",
    "        Conv2D(64, 3, padding=\"same\", activation=\"relu\"),\n",
    "        BatchNormalization(),\n",
    "        Conv2D(128, 3, padding=\"same\", activation=\"relu\"),\n",
    "        Dropout(0.1),\n",
    "        BatchNormalization(),\n",
    "        MaxPooling2D(2),\n",
    "        Conv2D(256, 3, padding=\"same\", activation=\"relu\"),\n",
    "        BatchNormalization(),\n",
    "        MaxPooling2D(2),\n",
    "        Conv2D(512, 3, padding=\"same\", activation=\"relu\"),\n",
    "        Dropout(0.1),\n",
    "        BatchNormalization(),\n",
    "        MaxPooling2D(2),\n",
    "        Flatten(),\n",
    "        Dense(3, activation=\"softmax\"),\n",
    "    ]\n",
    ")\n",
    "\n",
    "model.compile(\n",
    "    optimizer=\"adam\", loss=\"categorical_crossentropy\", metrics=[\"categorical_accuracy\"]\n",
    ")\n",
    "\n",
    "model.summary()"
   ]
  },
  {
   "cell_type": "markdown",
   "metadata": {},
   "source": [
    "#### Training\n",
    "Now that everything is set up, it is time to train the model. This will be done with an instance of the PneumoniaDataset class, so as to not load every single image in the large dataset at once."
   ]
  },
  {
   "cell_type": "code",
   "execution_count": 4,
   "metadata": {},
   "outputs": [
    {
     "name": "stdout",
     "output_type": "stream",
     "text": [
      "Epoch 1/64\n"
     ]
    },
    {
     "name": "stderr",
     "output_type": "stream",
     "text": [
      "WARNING: All log messages before absl::InitializeLog() is called are written to STDERR\n",
      "I0000 00:00:1715668802.115223 1280461 service.cc:145] XLA service 0x7ff71401b240 initialized for platform CUDA (this does not guarantee that XLA will be used). Devices:\n",
      "I0000 00:00:1715668802.115318 1280461 service.cc:153]   StreamExecutor device (0): NVIDIA GeForce RTX 3060 Ti, Compute Capability 8.6\n",
      "I0000 00:00:1715668813.931890 1280461 device_compiler.h:188] Compiled cluster using XLA!  This line is logged at most once for the lifetime of the process.\n"
     ]
    },
    {
     "name": "stdout",
     "output_type": "stream",
     "text": [
      "1434/1434 - 158s - 110ms/step - categorical_accuracy: 0.6703 - loss: 73.7212\n",
      "Epoch 2/64\n",
      "1434/1434 - 137s - 96ms/step - categorical_accuracy: 0.7063 - loss: 25.3073\n",
      "Epoch 3/64\n",
      "1434/1434 - 140s - 98ms/step - categorical_accuracy: 0.7307 - loss: 8.4815\n",
      "Epoch 4/64\n",
      "1434/1434 - 136s - 95ms/step - categorical_accuracy: 0.7643 - loss: 1.7321\n",
      "Epoch 5/64\n",
      "1434/1434 - 135s - 94ms/step - categorical_accuracy: 0.7994 - loss: 0.6015\n",
      "Epoch 6/64\n",
      "1434/1434 - 136s - 95ms/step - categorical_accuracy: 0.8127 - loss: 0.4625\n",
      "Epoch 7/64\n",
      "1434/1434 - 136s - 95ms/step - categorical_accuracy: 0.8059 - loss: 0.4651\n",
      "Epoch 8/64\n",
      "1434/1434 - 142s - 99ms/step - categorical_accuracy: 0.8085 - loss: 0.4743\n",
      "Epoch 9/64\n",
      "1434/1434 - 135s - 94ms/step - categorical_accuracy: 0.8106 - loss: 0.4780\n",
      "Epoch 10/64\n",
      "1434/1434 - 136s - 95ms/step - categorical_accuracy: 0.8114 - loss: 0.4575\n",
      "Epoch 11/64\n",
      "1434/1434 - 136s - 95ms/step - categorical_accuracy: 0.8282 - loss: 0.4670\n",
      "Epoch 12/64\n",
      "1434/1434 - 137s - 95ms/step - categorical_accuracy: 0.8439 - loss: 0.4063\n",
      "Epoch 13/64\n",
      "1434/1434 - 142s - 99ms/step - categorical_accuracy: 0.8557 - loss: 0.3851\n",
      "Epoch 14/64\n",
      "1434/1434 - 137s - 95ms/step - categorical_accuracy: 0.8671 - loss: 0.4041\n",
      "Epoch 15/64\n",
      "1434/1434 - 136s - 95ms/step - categorical_accuracy: 0.8805 - loss: 0.3244\n",
      "Epoch 16/64\n",
      "1434/1434 - 136s - 95ms/step - categorical_accuracy: 0.8945 - loss: 0.2896\n",
      "Epoch 17/64\n",
      "1434/1434 - 136s - 95ms/step - categorical_accuracy: 0.9001 - loss: 0.2968\n",
      "Epoch 18/64\n",
      "1434/1434 - 137s - 95ms/step - categorical_accuracy: 0.9180 - loss: 0.2274\n",
      "Epoch 19/64\n",
      "1434/1434 - 135s - 94ms/step - categorical_accuracy: 0.9255 - loss: 0.2223\n",
      "Epoch 20/64\n",
      "1434/1434 - 136s - 95ms/step - categorical_accuracy: 0.9236 - loss: 0.2426\n",
      "Epoch 21/64\n",
      "1434/1434 - 135s - 94ms/step - categorical_accuracy: 0.9330 - loss: 0.2421\n",
      "Epoch 22/64\n",
      "1434/1434 - 136s - 95ms/step - categorical_accuracy: 0.9527 - loss: 0.1439\n",
      "Epoch 23/64\n",
      "1434/1434 - 136s - 95ms/step - categorical_accuracy: 0.9337 - loss: 0.2472\n",
      "Epoch 24/64\n",
      "1434/1434 - 136s - 95ms/step - categorical_accuracy: 0.9604 - loss: 0.1325\n",
      "Epoch 25/64\n",
      "1434/1434 - 135s - 94ms/step - categorical_accuracy: 0.9540 - loss: 0.1751\n",
      "Epoch 26/64\n",
      "1434/1434 - 135s - 94ms/step - categorical_accuracy: 0.9564 - loss: 0.1600\n",
      "Epoch 27/64\n",
      "1434/1434 - 136s - 95ms/step - categorical_accuracy: 0.9641 - loss: 0.1418\n",
      "Epoch 28/64\n",
      "1434/1434 - 136s - 95ms/step - categorical_accuracy: 0.9581 - loss: 0.1796\n",
      "Epoch 29/64\n",
      "1434/1434 - 135s - 94ms/step - categorical_accuracy: 0.9677 - loss: 0.1370\n",
      "Epoch 30/64\n",
      "1434/1434 - 136s - 95ms/step - categorical_accuracy: 0.9669 - loss: 0.1487\n",
      "Epoch 31/64\n",
      "1434/1434 - 136s - 95ms/step - categorical_accuracy: 0.9703 - loss: 0.1340\n",
      "Epoch 32/64\n",
      "1434/1434 - 137s - 95ms/step - categorical_accuracy: 0.9696 - loss: 0.1383\n",
      "Epoch 33/64\n",
      "1434/1434 - 138s - 97ms/step - categorical_accuracy: 0.9686 - loss: 0.1368\n",
      "Epoch 34/64\n",
      "1434/1434 - 141s - 98ms/step - categorical_accuracy: 0.9710 - loss: 0.1472\n",
      "Epoch 35/64\n",
      "1434/1434 - 137s - 96ms/step - categorical_accuracy: 0.9663 - loss: 0.1683\n",
      "Epoch 36/64\n",
      "1434/1434 - 140s - 97ms/step - categorical_accuracy: 0.9777 - loss: 0.1115\n",
      "Epoch 37/64\n",
      "1434/1434 - 138s - 96ms/step - categorical_accuracy: 0.9738 - loss: 0.1311\n",
      "Epoch 38/64\n",
      "1434/1434 - 142s - 99ms/step - categorical_accuracy: 0.9747 - loss: 0.1280\n",
      "Epoch 39/64\n",
      "1434/1434 - 138s - 97ms/step - categorical_accuracy: 0.9730 - loss: 0.1471\n",
      "Epoch 40/64\n",
      "1434/1434 - 138s - 96ms/step - categorical_accuracy: 0.9756 - loss: 0.1396\n",
      "Epoch 41/64\n",
      "1434/1434 - 139s - 97ms/step - categorical_accuracy: 0.9789 - loss: 0.1245\n",
      "Epoch 42/64\n",
      "1434/1434 - 138s - 96ms/step - categorical_accuracy: 0.9756 - loss: 0.1505\n",
      "Epoch 43/64\n",
      "1434/1434 - 138s - 96ms/step - categorical_accuracy: 0.9787 - loss: 0.1419\n",
      "Epoch 44/64\n",
      "1434/1434 - 139s - 97ms/step - categorical_accuracy: 0.9782 - loss: 0.1270\n",
      "Epoch 45/64\n",
      "1434/1434 - 139s - 97ms/step - categorical_accuracy: 0.9789 - loss: 0.1526\n",
      "Epoch 46/64\n",
      "1434/1434 - 139s - 97ms/step - categorical_accuracy: 0.9799 - loss: 0.1345\n",
      "Epoch 47/64\n",
      "1434/1434 - 138s - 97ms/step - categorical_accuracy: 0.9826 - loss: 0.0942\n",
      "Epoch 48/64\n",
      "1434/1434 - 138s - 96ms/step - categorical_accuracy: 0.9803 - loss: 0.1548\n",
      "Epoch 49/64\n",
      "1434/1434 - 138s - 97ms/step - categorical_accuracy: 0.9859 - loss: 0.1086\n",
      "Epoch 50/64\n",
      "1434/1434 - 139s - 97ms/step - categorical_accuracy: 0.9805 - loss: 0.1625\n",
      "Epoch 51/64\n",
      "1434/1434 - 140s - 97ms/step - categorical_accuracy: 0.9810 - loss: 0.1478\n",
      "Epoch 52/64\n",
      "1434/1434 - 138s - 96ms/step - categorical_accuracy: 0.9808 - loss: 0.1130\n",
      "Epoch 53/64\n",
      "1434/1434 - 138s - 96ms/step - categorical_accuracy: 0.9845 - loss: 0.1101\n",
      "Epoch 54/64\n",
      "1434/1434 - 139s - 97ms/step - categorical_accuracy: 0.9841 - loss: 0.1280\n",
      "Epoch 55/64\n",
      "1434/1434 - 140s - 97ms/step - categorical_accuracy: 0.9853 - loss: 0.1121\n",
      "Epoch 56/64\n",
      "1434/1434 - 139s - 97ms/step - categorical_accuracy: 0.9801 - loss: 0.1389\n",
      "Epoch 57/64\n",
      "1434/1434 - 139s - 97ms/step - categorical_accuracy: 0.9904 - loss: 0.0653\n",
      "Epoch 58/64\n",
      "1434/1434 - 138s - 96ms/step - categorical_accuracy: 0.9843 - loss: 0.1458\n",
      "Epoch 59/64\n",
      "1434/1434 - 143s - 100ms/step - categorical_accuracy: 0.9827 - loss: 0.1362\n",
      "Epoch 60/64\n",
      "1434/1434 - 139s - 97ms/step - categorical_accuracy: 0.9827 - loss: 0.1632\n",
      "Epoch 61/64\n",
      "1434/1434 - 138s - 96ms/step - categorical_accuracy: 0.9908 - loss: 0.0695\n",
      "Epoch 62/64\n",
      "1434/1434 - 138s - 96ms/step - categorical_accuracy: 0.9862 - loss: 0.1237\n",
      "Epoch 63/64\n",
      "1434/1434 - 139s - 97ms/step - categorical_accuracy: 0.9887 - loss: 0.1045\n",
      "Epoch 64/64\n",
      "1434/1434 - 142s - 99ms/step - categorical_accuracy: 0.9848 - loss: 0.1519\n"
     ]
    }
   ],
   "source": [
    "training_data = PneumoniaDataset(\"data/train\", 4)\n",
    "\n",
    "model.fit(x=training_data, epochs=64, verbose=2)\n",
    "\n",
    "model.save(\"model0.keras\")"
   ]
  },
  {
   "cell_type": "markdown",
   "metadata": {},
   "source": [
    "#### Evaluation\n",
    "Finally, the model's performance is ready for evaluation. This is done with a subset of the data that the model has never seen, so predictions must be made by the model."
   ]
  },
  {
   "cell_type": "code",
   "execution_count": 9,
   "metadata": {},
   "outputs": [
    {
     "name": "stdout",
     "output_type": "stream",
     "text": [
      "\u001b[1m31/31\u001b[0m \u001b[32m━━━━━━━━━━━━━━━━━━━━\u001b[0m\u001b[37m\u001b[0m \u001b[1m3s\u001b[0m 104ms/step - categorical_accuracy: 0.8450 - loss: 5.8666\n"
     ]
    },
    {
     "data": {
      "text/plain": [
       "[9.008214950561523, 0.707317054271698]"
      ]
     },
     "execution_count": 9,
     "metadata": {},
     "output_type": "execute_result"
    }
   ],
   "source": [
    "test_data = PneumoniaDataset(\"data/test\", 4)\n",
    "\n",
    "model.evaluate(test_data)"
   ]
  },
  {
   "cell_type": "markdown",
   "metadata": {},
   "source": [
    "## Conclusions\n",
    "And there we go! The model predicted the classifications for each image in the test data with 84% accuracy. To further improve this accuracy, different preprocessing techniques outside of simple resizing and transfer learning with a model such as ResNet could be employed. The uses of CNNs for medical diagnoses is an incredibly promising subject. With just one person doing some research and tinkering for while, a model with very good accuracy can be made. Altogether, I really enjoyed this project and look forward to implementing other applications of neural networks."
   ]
  }
 ],
 "metadata": {
  "kernelspec": {
   "display_name": "env",
   "language": "python",
   "name": "python3"
  },
  "language_info": {
   "codemirror_mode": {
    "name": "ipython",
    "version": 3
   },
   "file_extension": ".py",
   "mimetype": "text/x-python",
   "name": "python",
   "nbconvert_exporter": "python",
   "pygments_lexer": "ipython3",
   "version": "3.10.12"
  }
 },
 "nbformat": 4,
 "nbformat_minor": 2
}
